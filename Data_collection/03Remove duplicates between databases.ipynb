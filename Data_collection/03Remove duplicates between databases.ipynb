{
 "cells": [
  {
   "cell_type": "code",
   "execution_count": null,
   "id": "cabc978c",
   "metadata": {},
   "outputs": [],
   "source": [
    "import pandas as pd\n",
    "import math\n",
    "import numpy as np\n",
    "import pickle"
   ]
  },
  {
   "cell_type": "code",
   "execution_count": null,
   "id": "44501c3a",
   "metadata": {},
   "outputs": [],
   "source": [
    "sabiork_kcat_df = pd.read_csv(\"./sabiork_data_cache/sabiork_delta_kcat_df.csv\")\n",
    "sabiork_km_df = pd.read_csv(\"./sabiork_data_cache/sabiork_delta_km_df.csv\")\n",
    "brenda_kcat_df = pd.read_csv(\"./brenda_data_cache/brenda_delta_kcat_df.csv\")\n",
    "brenda_km_df = pd.read_csv(\"./brenda_data_cache/brenda_delta_km_df.csv\")\n",
    "len(brenda_kcat_df),len(brenda_km_df)"
   ]
  },
  {
   "cell_type": "markdown",
   "id": "08d1266b",
   "metadata": {},
   "source": [
    "#### (a) Remove duplicate entries between the two databases."
   ]
  },
  {
   "cell_type": "code",
   "execution_count": null,
   "id": "85ccaa0a",
   "metadata": {},
   "outputs": [],
   "source": [
    "def merge_brenda_sabiork(brenda_df,sabiork_df,target):\n",
    "    standard_col_name = ['EcNumber','Organism','Substrate','UniprotId','sequence','mutant','Temperature','pH',\n",
    "                         f'wt_{target}_log10',f'mut_{target}_log10',f'delta_{target}_log10']\n",
    "    brenda_df = brenda_df[standard_col_name].copy()\n",
    "    sabiork_df = sabiork_df[standard_col_name].copy()\n",
    "    brenda_df['Temperature'] = brenda_df['Temperature'].astype(str)\n",
    "    brenda_df['pH'] = brenda_df['pH'].astype(str)\n",
    "    brenda_df['mutant'] = brenda_df['mutant'].str.upper()\n",
    "    sabiork_df['Temperature'] = sabiork_df['Temperature'].astype(str)\n",
    "    sabiork_df['pH'] = sabiork_df['pH'].astype(str)\n",
    "    sabiork_df['mutant'] = sabiork_df['mutant'].str.upper()\n",
    "\n",
    "    remove_loc = []\n",
    "    for i,row in brenda_df.iterrows():\n",
    "        conditions = {'EcNumber':row['EcNumber'],'Organism':row['Organism'],'Substrate':row['Substrate'],'UniprotId':row['UniprotId'],'sequence':row['sequence'],\n",
    "                    'mutant':row['mutant'],'Temperature':row['Temperature'],'pH':row['pH'],f'wt_{target}_log10':row[f'wt_{target}_log10'],f'mut_{target}_log10':row[f'mut_{target}_log10'],\n",
    "                    f'delta_{target}_log10':row[f'delta_{target}_log10']}\n",
    "        result_indexs = sorted(sabiork_df[(sabiork_df[list(conditions)] == pd.Series(conditions)).all(axis=1)].index.tolist())\n",
    "        remove_loc+=result_indexs\n",
    "    sabiork_df = sabiork_df.iloc[[i for i in range(len(sabiork_df)) if i not in remove_loc]].copy()\n",
    "    \n",
    "    merge_df = pd.concat([brenda_df,sabiork_df],ignore_index=True)\n",
    "    merge_df = merge_df[(merge_df[f'wt_{target}_log10']>-5) & (merge_df[f'wt_{target}_log10']<5)].copy()\n",
    "    merge_df = merge_df[(merge_df[f'mut_{target}_log10']>-5) & (merge_df[f'mut_{target}_log10']<5)].copy()\n",
    "    merge_df.reset_index(drop=True, inplace=True)\n",
    "    return merge_df\n",
    "merge_kcat_df = merge_brenda_sabiork(brenda_kcat_df,sabiork_kcat_df,'kcat')\n",
    "merge_km_df = merge_brenda_sabiork(brenda_km_df,sabiork_km_df,'km')\n",
    "len(merge_kcat_df),len(merge_km_df)"
   ]
  },
  {
   "cell_type": "markdown",
   "id": "7735a5ee",
   "metadata": {},
   "source": [
    "#### (b) Merge dataset.\n",
    "When merging entries with partially duplicated conditions, we will exclude non-optimal conditions."
   ]
  },
  {
   "cell_type": "code",
   "execution_count": null,
   "id": "54bb8450",
   "metadata": {},
   "outputs": [],
   "source": [
    "def merge_df(df,target):\n",
    "    def process_group(group):\n",
    "        # Keep rows where ValueCol is greater than or equal to 99% of the maximum value\n",
    "        if target =='km':\n",
    "            upper = group[f'wt_{target}_log10'].min() + 2  # log(0.01)\n",
    "            filtered_group = group[group[f'wt_{target}_log10'] <= upper]\n",
    "        \n",
    "        elif target =='kcat':\n",
    "            bottom = group[f'wt_{target}_log10'].max() - 2  # log(0.01)\n",
    "            filtered_group = group[group[f'wt_{target}_log10'] >= bottom]\n",
    "        \n",
    "        avg_delta_k = filtered_group[f'delta_{target}_log10'].mean()\n",
    "        wt_k_log10 = filtered_group[f'wt_{target}_log10'].mean()\n",
    "        mut_k_log10 = filtered_group[f'mut_{target}_log10'].mean()\n",
    "\n",
    "        return pd.Series({f'delta_{target}_log10': avg_delta_k, f'wt_{target}_log10': wt_k_log10,f'mut_{target}_log10':mut_k_log10})\n",
    "\n",
    "    df = df.groupby(['EcNumber', 'Organism','Substrate','UniprotId','sequence','mutant']).apply(process_group).reset_index()\n",
    "    return df\n",
    "\n",
    "delta_kcat_df = merge_df(merge_kcat_df,'kcat')\n",
    "delta_km_df = merge_df(merge_km_df,'km')\n",
    "len(delta_kcat_df),len(delta_km_df)"
   ]
  },
  {
   "cell_type": "code",
   "execution_count": null,
   "id": "5392e572",
   "metadata": {},
   "outputs": [],
   "source": [
    "def get_mutant_sequence(df):\n",
    "    mut_seqs = []\n",
    "    for i,row in df.iterrows():\n",
    "        muts = row['mutant']\n",
    "        mut_seq = row['sequence']\n",
    "        for mut in muts.split(\",\"):\n",
    "            loc = int(mut[1:-1])\n",
    "            mut_seq=mut_seq[:loc]+mut[-1]+mut_seq[loc+1:]\n",
    "        mut_seqs.append(mut_seq)\n",
    "    return mut_seqs\n",
    "    \n",
    "    \n",
    "delta_kcat_df['wildtype_sequence']=delta_kcat_df['sequence']\n",
    "delta_km_df['wildtype_sequence']=delta_km_df['sequence']\n",
    "delta_kcat_df['mutant_sequence']=get_mutant_sequence(delta_kcat_df)\n",
    "delta_km_df['mutant_sequence']=get_mutant_sequence(delta_km_df)\n",
    "\n",
    "delta_kcat_df = delta_kcat_df[['EcNumber','Organism','Substrate','UniprotId','mutant','delta_kcat_log10','wildtype_sequence','mutant_sequence']]\n",
    "delta_km_df = delta_km_df[['EcNumber','Organism','Substrate','UniprotId','mutant','delta_km_log10','wildtype_sequence','mutant_sequence']]\n",
    "delta_kcat_df.to_csv(\"./delta_kcat.csv\",index=False)\n",
    "delta_km_df.to_csv(\"./delta_km.csv\",index=False)"
   ]
  }
 ],
 "metadata": {
  "kernelspec": {
   "display_name": "MAGE",
   "language": "python",
   "name": "python3"
  },
  "language_info": {
   "codemirror_mode": {
    "name": "ipython",
    "version": 3
   },
   "file_extension": ".py",
   "mimetype": "text/x-python",
   "name": "python",
   "nbconvert_exporter": "python",
   "pygments_lexer": "ipython3",
   "version": "3.8.20"
  }
 },
 "nbformat": 4,
 "nbformat_minor": 5
}
